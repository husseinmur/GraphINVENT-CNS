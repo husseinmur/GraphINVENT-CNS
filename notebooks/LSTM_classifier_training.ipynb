{
 "cells": [
  {
   "cell_type": "code",
   "execution_count": null,
   "id": "ebdf8efa",
   "metadata": {},
   "outputs": [],
   "source": [
    "import pandas as pd\n",
    "from sklearn.model_selection import train_test_split\n",
    "from imblearn.over_sampling import RandomOverSampler\n",
    "import tensorflow as tf\n",
    "from keras import Sequential\n",
    "from keras.layers import Embedding, LSTM, Dense, Activation, Dropout, Conv1D, MaxPooling1D, Flatten\n",
    "import keras.backend as K\n",
    "import keras\n",
    "from sklearn.preprocessing import LabelEncoder\n",
    "from keras.utils import np_utils\n",
    "from keras.utils import to_categorical\n",
    "from keras import regularizers\n",
    "from gensim.models import word2vec\n",
    "from mol2vec.features import mol2alt_sentence, mol2sentence, MolSentence, DfVec, sentences2vec\n",
    "from rdkit.Chem import AllChem\n",
    "from rdkit import Chem"
   ]
  },
  {
   "cell_type": "code",
   "execution_count": null,
   "id": "8fa9ae2e",
   "metadata": {},
   "outputs": [],
   "source": [
    "wmodel = word2vec.Word2Vec.load('../model_300dim.pkl')"
   ]
  },
  {
   "cell_type": "code",
   "execution_count": null,
   "id": "3e0e35d1",
   "metadata": {},
   "outputs": [],
   "source": [
    "df = pd.read_csv(\"cleaned_pc.csv\")\n",
    "#remove wrongly labeled molecules\n",
    "df.drop([113,396,241,256],inplace=True)\n",
    "df.dropna(axis=1,inplace=True)\n",
    "df['active'] = df['T'].apply(lambda x:0 if x<1.5 else 1)\n",
    "df = df[['SMILES','AATS4s','TopoPSA', 'GATS8s','active']]\n",
    "df[\"vec\"] = df[\"SMILES\"].apply(lambda x:AllChem.GetMorganFingerprintAsBitVect(Chem.MolFromSmiles(x), useChirality=True, radius=2, nBits=1024))\n",
    "df['sentence'] = df['SMILES'].apply(lambda x: MolSentence(mol2alt_sentence(Chem.MolFromSmiles(x), 1)))\n",
    "df['mol2vec'] = [x for x in sentences2vec(df['sentence'], wmodel, unseen='UNK')]"
   ]
  },
  {
   "cell_type": "code",
   "execution_count": null,
   "id": "5c2e0601",
   "metadata": {},
   "outputs": [],
   "source": [
    "pretrained_weights = wmodel.wv.syn0\n",
    "vocab_size, emdedding_size = pretrained_weights.shape"
   ]
  },
  {
   "cell_type": "code",
   "execution_count": null,
   "id": "c8fc24b6",
   "metadata": {},
   "outputs": [],
   "source": [
    "X = sentences2vec(df['sentence'], wmodel, unseen='UNK')\n",
    "y = df['active']"
   ]
  },
  {
   "cell_type": "code",
   "execution_count": null,
   "id": "2120bb67",
   "metadata": {},
   "outputs": [],
   "source": [
    "X_train, X_test, y_train, y_test = train_test_split(X, y, test_size=0.2, random_state=21,stratify=y)"
   ]
  },
  {
   "cell_type": "code",
   "execution_count": null,
   "id": "4c996fbe",
   "metadata": {},
   "outputs": [],
   "source": [
    "ros = RandomOverSampler(random_state=0)\n",
    "X_train, y_train = ros.fit_resample(X_train, y_train)"
   ]
  },
  {
   "cell_type": "code",
   "execution_count": null,
   "id": "c1c2cd72",
   "metadata": {},
   "outputs": [],
   "source": [
    "y_train = to_categorical(y_train,num_classes=2)\n",
    "y_test = to_categorical(y_test,num_classes=2)"
   ]
  },
  {
   "cell_type": "code",
   "execution_count": null,
   "id": "b5adf324",
   "metadata": {},
   "outputs": [],
   "source": [
    "model_glove = Sequential()\n",
    "model_glove.add(Embedding(vocab_size, 300, input_length=300, weights=[pretrained_weights], trainable=False))\n",
    "model_glove.add(Conv1D(500, 10, activation='relu'))\n",
    "model_glove.add(MaxPooling1D(pool_size=10))\n",
    "model_glove.add(Conv1D(250, 10, activation='relu'))\n",
    "model_glove.add(Dropout(0.2))\n",
    "model_glove.add(Conv1D(200, 10, activation='relu'))\n",
    "model_glove.add(Dropout(0.2))\n",
    "model_glove.add(LSTM(200))\n",
    "model_glove.add(Dense(100, activation='relu'))\n",
    "model_glove.add(Dense(2, activation='softmax'))\n",
    "model_glove.compile(loss='binary_crossentropy', optimizer=keras.optimizers.Adam(learning_rate=1e-4), metrics=['binary_accuracy'])"
   ]
  },
  {
   "cell_type": "code",
   "execution_count": null,
   "id": "c9075eb5",
   "metadata": {},
   "outputs": [],
   "source": [
    "model_checkpoint_callback = tf.keras.callbacks.ModelCheckpoint(\n",
    "    filepath=\"./model\",\n",
    "    save_weights_only=True,\n",
    "    monitor='val_loss',\n",
    "    mode='min',\n",
    "    save_best_only=True)"
   ]
  },
  {
   "cell_type": "code",
   "execution_count": null,
   "id": "16387161",
   "metadata": {},
   "outputs": [],
   "source": [
    "model_glove.fit(X_train,y_train,epochs=20, validation_data=(X_test,y_test),callbacks=[model_checkpoint_callback])"
   ]
  },
  {
   "cell_type": "code",
   "execution_count": null,
   "id": "88d8a396",
   "metadata": {},
   "outputs": [],
   "source": []
  }
 ],
 "metadata": {
  "kernelspec": {
   "display_name": "Python 3 (ipykernel)",
   "language": "python",
   "name": "python3"
  },
  "language_info": {
   "codemirror_mode": {
    "name": "ipython",
    "version": 3
   },
   "file_extension": ".py",
   "mimetype": "text/x-python",
   "name": "python",
   "nbconvert_exporter": "python",
   "pygments_lexer": "ipython3",
   "version": "3.8.8"
  }
 },
 "nbformat": 4,
 "nbformat_minor": 5
}
