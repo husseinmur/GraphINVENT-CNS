{
 "cells": [
  {
   "cell_type": "code",
   "execution_count": null,
   "id": "3670b44c",
   "metadata": {},
   "outputs": [],
   "source": [
    "from genetic_selection import GeneticSelectionCV\n",
    "from sklearn.model_selection import RandomizedSearchCV\n",
    "from imblearn.over_sampling import RandomOverSampler\n",
    "from sklearn.ensemble import RandomForestClassifier\n",
    "from sklearn.model_selection import train_test_split\n",
    "import numpy as np\n",
    "import pandas as pd"
   ]
  },
  {
   "cell_type": "code",
   "execution_count": null,
   "id": "c6acc65f",
   "metadata": {},
   "outputs": [],
   "source": [
    "df = pd.read_csv(\"cleaned_pc.csv\")\n",
    "#remove wrongly labeled molecules\n",
    "df.drop([113,396,241,256],inplace=True)\n",
    "df.dropna(axis=1,inplace=True)\n",
    "df['active'] = df['T'].apply(lambda x:0 if x<1.5 else 1)\n",
    "df.drop(['SMILES','T'],inplace=True,axis=1)"
   ]
  },
  {
   "cell_type": "code",
   "execution_count": null,
   "id": "0ee3688d",
   "metadata": {},
   "outputs": [],
   "source": [
    "X = df.loc[:, df.columns != 'active']\n",
    "y = df['active']\n",
    "X_train, X_test, y_train, y_test = train_test_split(X, y, test_size=0.2, random_state=21, stratify=y)"
   ]
  },
  {
   "cell_type": "code",
   "execution_count": null,
   "id": "258ea9f1",
   "metadata": {},
   "outputs": [],
   "source": [
    "ros = RandomOverSampler(random_state=0)\n",
    "X_train, y_train = ros.fit_resample(X_train, y_train)"
   ]
  },
  {
   "cell_type": "code",
   "execution_count": null,
   "id": "b6b6e6dc",
   "metadata": {},
   "outputs": [],
   "source": [
    "n_estimators = [int(x) for x in np.linspace(start = 200, stop = 2000, num = 10)]\n",
    "max_depth = [int(x) for x in np.linspace(10, 110, num = 11)]\n",
    "max_depth.append(None)\n",
    "min_samples_split = [2, 5, 10]\n",
    "min_samples_leaf = [1, 2, 4]\n",
    "bootstrap = [True, False]\n",
    "random_grid = {'n_estimators': n_estimators,\n",
    "               'max_depth': max_depth,\n",
    "               'min_samples_split': min_samples_split,\n",
    "               'min_samples_leaf': min_samples_leaf,\n",
    "               'bootstrap': bootstrap}"
   ]
  },
  {
   "cell_type": "code",
   "execution_count": null,
   "id": "f4fe45f5",
   "metadata": {},
   "outputs": [],
   "source": [
    "rf = RandomForestClassifier()\n",
    "rf_random = RandomizedSearchCV(estimator = rf, param_distributions = random_grid, n_iter = 10, cv = 3, verbose=0, random_state=42, scoring='f1_macro')\n",
    "rf_random.fit(X_train, y_train)"
   ]
  },
  {
   "cell_type": "code",
   "execution_count": null,
   "id": "780a1bd7",
   "metadata": {},
   "outputs": [],
   "source": [
    "rf_random.best_params_"
   ]
  },
  {
   "cell_type": "code",
   "execution_count": null,
   "id": "e8d1ebf6",
   "metadata": {},
   "outputs": [],
   "source": [
    "model2 = RandomForestClassifier(n_estimators=600,\n",
    "                               min_samples_split=5,\n",
    "                               min_samples_leaf = 2,\n",
    "                               max_depth=50,\n",
    "                               bootstrap=False)"
   ]
  },
  {
   "cell_type": "code",
   "execution_count": null,
   "id": "2f2be146",
   "metadata": {},
   "outputs": [],
   "source": [
    "selectors = GeneticSelectionCV(model2,\n",
    "                                  cv=3,\n",
    "                                  verbose=1,\n",
    "                                  scoring='accuracy',\n",
    "                                  max_features=5,\n",
    "                                  n_population=100,\n",
    "                                  crossover_proba=0.5,\n",
    "                                  mutation_proba=0.2,\n",
    "                                  n_generations=50,\n",
    "                                  crossover_independent_proba=0.5,\n",
    "                                  mutation_independent_proba=0.04,\n",
    "                                  tournament_size=4,\n",
    "                                  n_gen_no_change=10,\n",
    "                                  caching=True,\n",
    "                                  n_jobs=-2)\n",
    "selectors = selectors.fit(X_train, y_train)"
   ]
  },
  {
   "cell_type": "code",
   "execution_count": null,
   "id": "d5b0d740",
   "metadata": {},
   "outputs": [],
   "source": [
    "X.columns[selectors.support_]"
   ]
  }
 ],
 "metadata": {
  "kernelspec": {
   "display_name": "Python 3 (ipykernel)",
   "language": "python",
   "name": "python3"
  },
  "language_info": {
   "codemirror_mode": {
    "name": "ipython",
    "version": 3
   },
   "file_extension": ".py",
   "mimetype": "text/x-python",
   "name": "python",
   "nbconvert_exporter": "python",
   "pygments_lexer": "ipython3",
   "version": "3.8.8"
  }
 },
 "nbformat": 4,
 "nbformat_minor": 5
}
